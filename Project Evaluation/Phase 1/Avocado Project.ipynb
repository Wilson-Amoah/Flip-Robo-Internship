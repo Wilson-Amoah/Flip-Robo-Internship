{
 "cells": [
  {
   "cell_type": "code",
   "execution_count": null,
   "id": "2a63e68f",
   "metadata": {},
   "outputs": [],
   "source": [
    "#  Internship number: 2306"
   ]
  },
  {
   "cell_type": "code",
   "execution_count": 8,
   "id": "396caf07",
   "metadata": {},
   "outputs": [
    {
     "name": "stdout",
     "output_type": "stream",
     "text": [
      "<class 'pandas.core.frame.DataFrame'>\n",
      "RangeIndex: 18249 entries, 0 to 18248\n",
      "Data columns (total 14 columns):\n",
      " #   Column        Non-Null Count  Dtype  \n",
      "---  ------        --------------  -----  \n",
      " 0   Week          18249 non-null  int64  \n",
      " 1   Date          18249 non-null  object \n",
      " 2   AveragePrice  18249 non-null  float64\n",
      " 3   Total Volume  18249 non-null  float64\n",
      " 4   4046          18249 non-null  float64\n",
      " 5   4225          18249 non-null  float64\n",
      " 6   4770          18249 non-null  float64\n",
      " 7   Total Bags    18249 non-null  float64\n",
      " 8   Small Bags    18249 non-null  float64\n",
      " 9   Large Bags    18249 non-null  float64\n",
      " 10  XLarge Bags   18249 non-null  float64\n",
      " 11  type          18249 non-null  object \n",
      " 12  year          18249 non-null  int64  \n",
      " 13  region        18249 non-null  object \n",
      "dtypes: float64(9), int64(2), object(3)\n",
      "memory usage: 1.9+ MB\n",
      "None\n",
      "               Week  AveragePrice  Total Volume          4046          4225  \\\n",
      "count  18249.000000  18249.000000  1.824900e+04  1.824900e+04  1.824900e+04   \n",
      "mean      24.232232      1.405978  8.506440e+05  2.930084e+05  2.951546e+05   \n",
      "std       15.481045      0.402677  3.453545e+06  1.264989e+06  1.204120e+06   \n",
      "min        0.000000      0.440000  8.456000e+01  0.000000e+00  0.000000e+00   \n",
      "25%       10.000000      1.100000  1.083858e+04  8.540700e+02  3.008780e+03   \n",
      "50%       24.000000      1.370000  1.073768e+05  8.645300e+03  2.906102e+04   \n",
      "75%       38.000000      1.660000  4.329623e+05  1.110202e+05  1.502069e+05   \n",
      "max       52.000000      3.250000  6.250565e+07  2.274362e+07  2.047057e+07   \n",
      "\n",
      "               4770    Total Bags    Small Bags    Large Bags    XLarge Bags  \\\n",
      "count  1.824900e+04  1.824900e+04  1.824900e+04  1.824900e+04   18249.000000   \n",
      "mean   2.283974e+04  2.396392e+05  1.821947e+05  5.433809e+04    3106.426507   \n",
      "std    1.074641e+05  9.862424e+05  7.461785e+05  2.439660e+05   17692.894652   \n",
      "min    0.000000e+00  0.000000e+00  0.000000e+00  0.000000e+00       0.000000   \n",
      "25%    0.000000e+00  5.088640e+03  2.849420e+03  1.274700e+02       0.000000   \n",
      "50%    1.849900e+02  3.974383e+04  2.636282e+04  2.647710e+03       0.000000   \n",
      "75%    6.243420e+03  1.107834e+05  8.333767e+04  2.202925e+04     132.500000   \n",
      "max    2.546439e+06  1.937313e+07  1.338459e+07  5.719097e+06  551693.650000   \n",
      "\n",
      "               year  \n",
      "count  18249.000000  \n",
      "mean    2016.147899  \n",
      "std        0.939938  \n",
      "min     2015.000000  \n",
      "25%     2015.000000  \n",
      "50%     2016.000000  \n",
      "75%     2017.000000  \n",
      "max     2018.000000  \n",
      "Week            0\n",
      "Date            0\n",
      "AveragePrice    0\n",
      "Total Volume    0\n",
      "4046            0\n",
      "4225            0\n",
      "4770            0\n",
      "Total Bags      0\n",
      "Small Bags      0\n",
      "Large Bags      0\n",
      "XLarge Bags     0\n",
      "type            0\n",
      "year            0\n",
      "region          0\n",
      "dtype: int64\n"
     ]
    }
   ],
   "source": [
    "import pandas as pd\n",
    "from sklearn.model_selection import train_test_split\n",
    "from sklearn.ensemble import RandomForestClassifier, RandomForestRegressor\n",
    "from sklearn.metrics import accuracy_score, mean_absolute_error, mean_squared_error\n",
    "from sklearn.preprocessing import LabelEncoder\n",
    "\n",
    "# Load the dataset\n",
    "data = pd.read_csv(\"/Users/wilogy/Downloads/Projects/Project Evaluation/avocado.csv\")\n",
    "\n",
    "# Explore the dataset\n",
    "print(data.info())  # Get information about the dataset\n",
    "print(data.describe())  # Summary statistics\n",
    "\n",
    "# Check for missing values\n",
    "print(data.isnull().sum())"
   ]
  },
  {
   "cell_type": "code",
   "execution_count": 12,
   "id": "0f06158b",
   "metadata": {},
   "outputs": [
    {
     "name": "stdout",
     "output_type": "stream",
     "text": [
      "Region Accuracy: 0.90\n",
      "Price Mean Absolute Error: 0.10\n",
      "Price Mean Squared Error: 0.02\n"
     ]
    }
   ],
   "source": [
    "\n",
    "# Encode the 'type' column using Label Encoding\n",
    "label_encoder = LabelEncoder()\n",
    "data['type'] = label_encoder.fit_transform(data['type'])\n",
    "\n",
    "data = data.drop('Date', axis=1) #drop the date column\n",
    "\n",
    "\n",
    "# Split the dataset into features and target variables\n",
    "features = data.drop(['region', 'AveragePrice'], axis=1)\n",
    "target_region = data['region']\n",
    "target_price = data['AveragePrice']\n",
    "\n",
    "# Split the data into training and testing sets\n",
    "X_train, X_test, y_region_train, y_region_test, y_price_train, y_price_test = train_test_split(\n",
    "    features, target_region, target_price, test_size=0.2, random_state=42\n",
    ")\n",
    "\n",
    "# Classification model to predict 'region'\n",
    "region_classifier = RandomForestClassifier(n_estimators=100, random_state=42)\n",
    "region_classifier.fit(X_train, y_region_train)\n",
    "region_predictions = region_classifier.predict(X_test)\n",
    "\n",
    "# Regression model to predict 'AveragePrice'\n",
    "price_regressor = RandomForestRegressor(n_estimators=100, random_state=42)\n",
    "price_regressor.fit(X_train, y_price_train)\n",
    "price_predictions = price_regressor.predict(X_test)\n",
    "\n",
    "# Evaluate the models\n",
    "region_accuracy = accuracy_score(y_region_test, region_predictions)\n",
    "price_mae = mean_absolute_error(y_price_test, price_predictions)\n",
    "price_mse = mean_squared_error(y_price_test, price_predictions)\n",
    "\n",
    "print(f\"Region Accuracy: {region_accuracy:.2f}\")\n",
    "print(f\"Price Mean Absolute Error: {price_mae:.2f}\")\n",
    "print(f\"Price Mean Squared Error: {price_mse:.2f}\")\n"
   ]
  },
  {
   "cell_type": "code",
   "execution_count": 45,
   "id": "ec28e2b4",
   "metadata": {},
   "outputs": [
    {
     "name": "stdout",
     "output_type": "stream",
     "text": [
      "The region where this Avocado was produced is: Albany\n",
      "The unit price of the Avocado is: 1.15\n"
     ]
    },
    {
     "name": "stderr",
     "output_type": "stream",
     "text": [
      "/Users/wilogy/opt/anaconda3/lib/python3.9/site-packages/sklearn/base.py:465: UserWarning: X does not have valid feature names, but RandomForestClassifier was fitted with feature names\n",
      "  warnings.warn(\n",
      "/Users/wilogy/opt/anaconda3/lib/python3.9/site-packages/sklearn/base.py:465: UserWarning: X does not have valid feature names, but RandomForestRegressor was fitted with feature names\n",
      "  warnings.warn(\n"
     ]
    }
   ],
   "source": [
    "# Choosing a specific row from the dataset to test, for example, the tenth row (index 9)\n",
    "sample_row = X_test.iloc[9]\n",
    "\n",
    "# Make predictions for the chosen row\n",
    "region_prediction = region_classifier.predict([sample_row])[0]\n",
    "price_prediction = price_regressor.predict([sample_row])[0]\n",
    "\n",
    "# Print the predicted region and average price\n",
    "print(f\"The region where this Avocado was produced is: {region_prediction}\")\n",
    "print(f\"The unit price of the Avocado is: {price_prediction:.2f}\")\n"
   ]
  },
  {
   "cell_type": "code",
   "execution_count": null,
   "id": "f3eac339",
   "metadata": {},
   "outputs": [],
   "source": []
  }
 ],
 "metadata": {
  "kernelspec": {
   "display_name": "Python 3 (ipykernel)",
   "language": "python",
   "name": "python3"
  },
  "language_info": {
   "codemirror_mode": {
    "name": "ipython",
    "version": 3
   },
   "file_extension": ".py",
   "mimetype": "text/x-python",
   "name": "python",
   "nbconvert_exporter": "python",
   "pygments_lexer": "ipython3",
   "version": "3.9.12"
  }
 },
 "nbformat": 4,
 "nbformat_minor": 5
}
