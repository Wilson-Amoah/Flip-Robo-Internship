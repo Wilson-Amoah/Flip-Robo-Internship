{
 "cells": [
  {
   "cell_type": "code",
   "execution_count": null,
   "id": "34e4433b",
   "metadata": {},
   "outputs": [],
   "source": [
    "#internship no: 2306"
   ]
  },
  {
   "cell_type": "code",
   "execution_count": 11,
   "id": "86161121",
   "metadata": {},
   "outputs": [
    {
     "name": "stdout",
     "output_type": "stream",
     "text": [
      "Next_Tmax Mean Absolute Error: 0.72\n",
      "Next_Tmax Mean Squared Error: 0.91\n",
      "Next_Tmin Mean Absolute Error: 0.57\n",
      "Next_Tmin Mean Squared Error: 0.58\n"
     ]
    }
   ],
   "source": [
    "\n",
    "import pandas as pd\n",
    "from sklearn.model_selection import train_test_split\n",
    "from sklearn.ensemble import RandomForestRegressor\n",
    "from sklearn.impute import SimpleImputer  # Used for handling missing data\n",
    "from sklearn.metrics import mean_absolute_error, mean_squared_error\n",
    "\n",
    "# Load the dataset\n",
    "\n",
    "data = pd.read_csv(\"/Users/wilogy/Downloads/Projects/Project Evaluation/temperature.csv\")\n",
    "\n",
    "# Remove non-numeric columns (like 'Date') for regression\n",
    "numeric_data = data.drop(['Date'], axis=1)\n",
    "\n",
    "# Handle missing values by filling them with the mean of each column\n",
    "imputer = SimpleImputer(strategy='mean')\n",
    "imputed_data = imputer.fit_transform(numeric_data)\n",
    "\n",
    "# Convert the imputed data back to a DataFrame\n",
    "data = pd.DataFrame(imputed_data, columns=numeric_data.columns)\n",
    "\n",
    "# Define features (X) and target variables (y) for temperature prediction\n",
    "X = data.drop(['Next_Tmax', 'Next_Tmin'], axis=1)\n",
    "y_tmax = data['Next_Tmax']  # Target variable for maximum temperature prediction\n",
    "y_tmin = data['Next_Tmin']  # Target variable for minimum temperature prediction\n",
    "\n",
    "# Split the data into training and testing sets\n",
    "X_train, X_test, y_tmax_train, y_tmax_test = train_test_split(X, y_tmax, test_size=0.2, random_state=42)\n",
    "X_train, X_test, y_tmin_train, y_tmin_test = train_test_split(X, y_tmin, test_size=0.2, random_state=42)\n",
    "\n",
    "# Create and train regression models for temperature prediction\n",
    "tmax_regressor = RandomForestRegressor(n_estimators=100, random_state=42)\n",
    "tmax_regressor.fit(X_train, y_tmax_train)  # Training model for maximum temperature\n",
    "\n",
    "tmin_regressor = RandomForestRegressor(n_estimators=100, random_state=42)\n",
    "tmin_regressor.fit(X_train, y_tmin_train)  # Training model for minimum temperature\n",
    "\n",
    "# Use the trained models to make temperature predictions\n",
    "tmax_predictions = tmax_regressor.predict(X_test)  # Predict maximum temperature\n",
    "tmin_predictions = tmin_regressor.predict(X_test)  # Predict minimum temperature\n",
    "\n",
    "# Evaluate the models and print the results\n",
    "tmax_mae = mean_absolute_error(y_tmax_test, tmax_predictions)\n",
    "tmax_mse = mean_squared_error(y_tmax_test, tmax_predictions)\n",
    "\n",
    "tmin_mae = mean_absolute_error(y_tmin_test, tmin_predictions)\n",
    "tmin_mse = mean_squared_error(y_tmin_test, tmin_predictions)\n",
    "\n",
    "# Print the evaluation results\n",
    "print(f'Next_Tmax Mean Absolute Error: {tmax_mae:.2f}')\n",
    "print(f'Next_Tmax Mean Squared Error: {tmax_mse:.2f}')\n",
    "print(f'Next_Tmin Mean Absolute Error: {tmin_mae:.2f}')\n",
    "print(f'Next_Tmin Mean Squared Error: {tmin_mse:.2f}')\n"
   ]
  },
  {
   "cell_type": "code",
   "execution_count": 12,
   "id": "69ac92a3",
   "metadata": {},
   "outputs": [
    {
     "name": "stdout",
     "output_type": "stream",
     "text": [
      "[20.593     27.365     21.543     ... 23.527     20.052     22.0276444]\n"
     ]
    }
   ],
   "source": [
    "print(tmin_predictions)"
   ]
  },
  {
   "cell_type": "code",
   "execution_count": null,
   "id": "6b57ab78",
   "metadata": {},
   "outputs": [],
   "source": []
  }
 ],
 "metadata": {
  "kernelspec": {
   "display_name": "Python 3 (ipykernel)",
   "language": "python",
   "name": "python3"
  },
  "language_info": {
   "codemirror_mode": {
    "name": "ipython",
    "version": 3
   },
   "file_extension": ".py",
   "mimetype": "text/x-python",
   "name": "python",
   "nbconvert_exporter": "python",
   "pygments_lexer": "ipython3",
   "version": "3.9.12"
  }
 },
 "nbformat": 4,
 "nbformat_minor": 5
}
