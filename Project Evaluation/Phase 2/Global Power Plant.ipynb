{
 "cells": [
  {
   "cell_type": "code",
   "execution_count": null,
   "id": "f55f49cc",
   "metadata": {},
   "outputs": [],
   "source": [
    "#Internship number: 2306"
   ]
  },
  {
   "cell_type": "code",
   "execution_count": 38,
   "id": "7bce116c",
   "metadata": {},
   "outputs": [
    {
     "name": "stdout",
     "output_type": "stream",
     "text": [
      "Primary Fuel Accuracy: 0.47\n",
      "Capacity (MW) Mean Absolute Error: 3.83\n",
      "Capacity (MW) Mean Squared Error: 1074.36\n"
     ]
    }
   ],
   "source": [
    "\n",
    "import pandas as pd\n",
    "from sklearn.model_selection import train_test_split\n",
    "from sklearn.ensemble import RandomForestClassifier, RandomForestRegressor\n",
    "from sklearn.metrics import accuracy_score, mean_absolute_error, mean_squared_error\n",
    "\n",
    "# Load the dataset\n",
    "dataset_path = \"/Users/wilogy/Downloads/Projects/Project Evaluation/database_IND.csv\"\n",
    "data = pd.read_csv(dataset_path)\n",
    "\n",
    "# Fill missing values with the mode of each column\n",
    "data.fillna(data.mode().iloc[0], inplace=True)\n",
    "\n",
    "# Split the dataset into features and target variables\n",
    "X = data[['capacity_mw']]\n",
    "y_primary_fuel = data['primary_fuel']\n",
    "y_capacity_mw = data['capacity_mw']\n",
    "\n",
    "# Split the data into training and testing sets\n",
    "X_train, X_test, y_primary_fuel_train, y_primary_fuel_test = train_test_split(X, y_primary_fuel, test_size=0.2, random_state=42)\n",
    "X_train, X_test, y_capacity_mw_train, y_capacity_mw_test = train_test_split(X, y_capacity_mw, test_size=0.2, random_state=42)\n",
    "\n",
    "# Classification model to predict 'Primary Fuel'\n",
    "primary_fuel_classifier = RandomForestClassifier(n_estimators=100, random_state=42)\n",
    "primary_fuel_classifier.fit(X_train, y_primary_fuel_train)\n",
    "primary_fuel_predictions = primary_fuel_classifier.predict(X_test)\n",
    "\n",
    "# Regression model to predict 'Capacity (MW)'\n",
    "capacity_mw_regressor = RandomForestRegressor(n_estimators=100, random_state=42)\n",
    "capacity_mw_regressor.fit(X_train, y_capacity_mw_train)\n",
    "capacity_mw_predictions = capacity_mw_regressor.predict(X_test)\n",
    "\n",
    "# Evaluate the models\n",
    "primary_fuel_accuracy = accuracy_score(y_primary_fuel_test, primary_fuel_predictions)\n",
    "capacity_mw_mae = mean_absolute_error(y_capacity_mw_test, capacity_mw_predictions)\n",
    "capacity_mw_mse = mean_squared_error(y_capacity_mw_test, capacity_mw_predictions)\n",
    "\n",
    "print(f\"Primary Fuel Accuracy: {primary_fuel_accuracy:.2f}\")\n",
    "print(f\"Capacity (MW) Mean Absolute Error: {capacity_mw_mae:.2f}\")\n",
    "print(f\"Capacity (MW) Mean Squared Error: {capacity_mw_mse:.2f}\")\n"
   ]
  },
  {
   "cell_type": "code",
   "execution_count": 35,
   "id": "58f77871",
   "metadata": {},
   "outputs": [
    {
     "name": "stdout",
     "output_type": "stream",
     "text": [
      "Primary Fuel Accuracy: 0.47\n",
      "Capacity (MW) Mean Absolute Error: 3.83\n",
      "Capacity (MW) Mean Squared Error: 1074.36\n"
     ]
    }
   ],
   "source": [
    "import pandas as pd\n",
    "from sklearn.model_selection import train_test_split\n",
    "from sklearn.ensemble import RandomForestClassifier, RandomForestRegressor\n",
    "from sklearn.metrics import accuracy_score, mean_absolute_error, mean_squared_error\n",
    "\n",
    "# Load the dataset\n",
    "dataset_path = \"/Users/wilogy/Downloads/Projects/Project Evaluation/database_IND.csv\"\n",
    "data = pd.read_csv(dataset_path)\n",
    "\n",
    "# Fill missing values with the mode of each column\n",
    "data.fillna(data.mode().iloc[0], inplace=True)\n",
    "\n",
    "# Split the dataset into features and target variables\n",
    "X = data[['capacity_mw']]\n",
    "y_primary_fuel = data['primary_fuel']\n",
    "y_capacity_mw = data['capacity_mw']\n",
    "\n",
    "# Split the data into training and testing sets\n",
    "X_train, X_test, y_primary_fuel_train, y_primary_fuel_test = train_test_split(X, y_primary_fuel, test_size=0.2, random_state=42)\n",
    "X_train, X_test, y_capacity_mw_train, y_capacity_mw_test = train_test_split(X, y_capacity_mw, test_size=0.2, random_state=42)\n",
    "\n",
    "# Classification model to predict 'Primary Fuel'\n",
    "primary_fuel_classifier = RandomForestClassifier(n_estimators=100, random_state=42)\n",
    "primary_fuel_classifier.fit(X_train, y_primary_fuel_train)\n",
    "primary_fuel_predictions = primary_fuel_classifier.predict(X_test)\n",
    "\n",
    "# Regression model to predict 'Capacity (MW)'\n",
    "capacity_mw_regressor = RandomForestRegressor(n_estimators=100, random_state=42)\n",
    "capacity_mw_regressor.fit(X_train, y_capacity_mw_train)\n",
    "capacity_mw_predictions = capacity_mw_regressor.predict(X_test)\n",
    "\n",
    "# Evaluate the models\n",
    "primary_fuel_accuracy = accuracy_score(y_primary_fuel_test, primary_fuel_predictions)\n",
    "capacity_mw_mae = mean_absolute_error(y_capacity_mw_test, capacity_mw_predictions)\n",
    "capacity_mw_mse = mean_squared_error(y_capacity_mw_test, capacity_mw_predictions)\n",
    "\n",
    "print(f\"Primary Fuel Accuracy: {primary_fuel_accuracy:.2f}\")\n",
    "print(f\"Capacity (MW) Mean Absolute Error: {capacity_mw_mae:.2f}\")\n",
    "print(f\"Capacity (MW) Mean Squared Error: {capacity_mw_mse:.2f}\")\n"
   ]
  },
  {
   "cell_type": "code",
   "execution_count": 43,
   "id": "244b8bf6",
   "metadata": {},
   "outputs": [
    {
     "name": "stdout",
     "output_type": "stream",
     "text": [
      "['Hydro' 'Wind' 'Wind' 'Gas' 'Hydro' 'Wind' 'Coal' 'Solar' 'Coal' 'Wind'\n",
      " 'Wind' 'Hydro' 'Solar' 'Solar' 'Hydro' 'Oil' 'Biomass' 'Hydro' 'Coal'\n",
      " 'Solar' 'Solar' 'Wind' 'Solar' 'Hydro' 'Coal' 'Biomass' 'Coal' 'Solar'\n",
      " 'Solar' 'Hydro' 'Hydro' 'Hydro' 'Solar' 'Gas' 'Gas' 'Hydro' 'Hydro'\n",
      " 'Coal' 'Biomass' 'Wind' 'Coal' 'Hydro' 'Hydro' 'Hydro' 'Solar' 'Coal'\n",
      " 'Nuclear' 'Wind' 'Coal' 'Solar' 'Wind' 'Hydro' 'Oil' 'Gas' 'Biomass'\n",
      " 'Oil' 'Solar' 'Hydro' 'Hydro' 'Solar' 'Biomass' 'Coal' 'Hydro' 'Coal'\n",
      " 'Solar' 'Biomass' 'Hydro' 'Solar' 'Wind' 'Coal' 'Hydro' 'Solar' 'Solar'\n",
      " 'Biomass' 'Coal' 'Coal' 'Gas' 'Coal' 'Coal' 'Coal' 'Hydro' 'Coal' 'Hydro'\n",
      " 'Hydro' 'Gas' 'Coal' 'Gas' 'Solar' 'Coal' 'Hydro' 'Hydro' 'Hydro'\n",
      " 'Biomass' 'Solar' 'Hydro' 'Biomass' 'Wind' 'Biomass' 'Coal' 'Solar'\n",
      " 'Coal' 'Hydro' 'Coal' 'Coal' 'Hydro' 'Biomass' 'Coal' 'Wind' 'Hydro'\n",
      " 'Coal' 'Solar' 'Hydro' 'Coal' 'Coal' 'Solar' 'Coal' 'Coal' 'Hydro'\n",
      " 'Biomass' 'Coal' 'Wind' 'Hydro' 'Solar' 'Biomass' 'Biomass' 'Hydro'\n",
      " 'Coal' 'Gas' 'Coal' 'Hydro' 'Gas' 'Coal' 'Gas' 'Coal' 'Coal' 'Hydro'\n",
      " 'Coal' 'Hydro' 'Wind' 'Solar' 'Solar' 'Wind' 'Solar' 'Hydro' 'Solar'\n",
      " 'Wind' 'Hydro' 'Coal' 'Oil' 'Hydro' 'Hydro' 'Solar' 'Biomass' 'Hydro'\n",
      " 'Wind' 'Hydro' 'Hydro' 'Hydro' 'Solar' 'Hydro' 'Nuclear' 'Biomass'\n",
      " 'Hydro' 'Coal' 'Solar' 'Coal' 'Solar' 'Gas' 'Hydro' 'Hydro' 'Hydro'\n",
      " 'Coal' 'Oil' 'Hydro' 'Hydro' 'Coal' 'Coal' 'Hydro' 'Coal' 'Hydro' 'Hydro'\n",
      " 'Solar'] [1.8726000e+02 5.0403000e+01 4.1985000e+01 7.6842000e+02 4.4570000e+00\n",
      " 1.5180000e+00 4.5020000e+01 2.0958000e+01 1.5887000e+03 1.0495000e+01\n",
      " 3.3081500e+01 7.9954500e+01 5.0000000e+00 1.0000000e+01 3.9856000e+02\n",
      " 2.2015000e+01 1.9795000e+01 2.3994000e+02 1.0418000e+03 1.0000000e+01\n",
      " 1.5000000e+01 3.9136000e+01 5.0000000e+00 1.8030000e+02 4.5875000e+01\n",
      " 2.8010000e+01 1.0000000e+03 5.0000000e+00 1.0000000e+01 3.0000000e+01\n",
      " 7.0170000e+02 5.1685000e+02 6.4803000e+02 1.3607600e+03 3.2988500e+02\n",
      " 3.0000000e+02 1.0986000e+02 6.0000000e+02 1.5995000e+01 6.5627000e+01\n",
      " 3.4999500e+01 3.9856000e+02 2.4986000e+02 3.0000000e+01 2.0958000e+01\n",
      " 5.3850000e+02 4.4016348e+02 2.2512000e+01 1.4632000e+03 5.0000000e+00\n",
      " 5.0403000e+01 9.0030000e+00 7.9239500e+01 1.1358800e+03 2.7938000e+01\n",
      " 2.5118000e+01 4.0000000e+01 2.3640000e+02 1.6084000e+02 2.8116000e+01\n",
      " 1.7995000e+01 1.0494000e+03 3.0000000e+02 5.0000000e+02 5.0000000e+00\n",
      " 2.3991000e+01 9.0030000e+00 5.0000000e+00 5.0403000e+01 2.9120000e+02\n",
      " 1.2000000e+01 1.5000000e+01 1.0000000e+02 1.6990000e+01 1.0494000e+03\n",
      " 1.2000000e+03 3.8771855e+02 1.2000000e+03 5.4615500e+01 8.9988000e+01\n",
      " 3.6000000e+01 1.2504000e+02 6.3144000e+01 2.3070000e+02 6.6044000e+01\n",
      " 2.6997900e+02 3.4932071e+02 1.0000000e+02 6.0000000e+02 3.0594000e+01\n",
      " 6.0000000e+01 9.0030000e+00 1.8886000e+01 2.0010000e+00 1.0519320e+02\n",
      " 1.5995000e+01 2.5504000e+01 2.5998000e+01 2.6997900e+02 1.0000000e+02\n",
      " 1.2000000e+03 3.2054000e+01 1.8031308e+03 4.1997510e+02 7.1500000e+01\n",
      " 2.3991000e+01 1.3200000e+03 3.7447000e+01 7.0170000e+02 8.9988000e+01\n",
      " 4.1160000e+00 1.3804000e+02 4.3242500e+02 1.5887000e+03 5.0000000e+01\n",
      " 3.1183000e+01 7.2420000e+02 3.0000000e+01 1.5995000e+01 5.0000000e+02\n",
      " 1.0495000e+01 3.6000000e+01 1.0000000e+01 1.8922000e+01 1.2450000e+01\n",
      " 3.6000000e+01 1.3200000e+03 1.3836600e+03 1.2504000e+02 7.5000000e+01\n",
      " 3.2988500e+02 8.9160000e+02 2.2078910e+02 3.1570000e+01 6.7576000e+01\n",
      " 3.0000000e+02 5.3850000e+02 6.2536000e+01 3.5052500e+01 1.0000000e+02\n",
      " 1.0000000e+01 2.0000000e+01 5.0000000e+01 3.0000000e+02 2.0958000e+01\n",
      " 1.6504500e+01 1.5993300e+02 1.4968000e+03 1.0632180e+02 9.0811500e+01\n",
      " 2.4986000e+02 5.0000000e+00 1.3192800e+01 3.0000000e+02 3.2976000e+01\n",
      " 1.2000000e+01 6.2536000e+01 7.9954500e+01 4.0000000e+01 9.5994000e+01\n",
      " 1.9994000e+03 1.5995000e+01 1.2000000e+02 3.1570000e+01 1.5000000e+01\n",
      " 4.3308000e+03 5.0000000e+00 3.2988500e+02 2.4986000e+02 6.0000000e+01\n",
      " 1.0519320e+02 1.3405000e+03 2.2015000e+01 3.0000000e+01 6.9743000e+01\n",
      " 1.0864600e+03 1.4632000e+03 1.2000000e+02 1.4968000e+03 4.4570000e+00\n",
      " 4.5958524e+02 5.0000000e+01]\n"
     ]
    }
   ],
   "source": [
    "# Make predictions for 'Primary Fuel'\n",
    "primary_fuel_predictions = primary_fuel_classifier.predict(X_test)\n",
    "\n",
    "# Make predictions for 'Capacity (MW)'\n",
    "capacity_mw_predictions = capacity_mw_regressor.predict(X_test)\n",
    "\n",
    "print(primary_fuel_predictions, capacity_mw_predictions)"
   ]
  }
 ],
 "metadata": {
  "kernelspec": {
   "display_name": "Python 3 (ipykernel)",
   "language": "python",
   "name": "python3"
  },
  "language_info": {
   "codemirror_mode": {
    "name": "ipython",
    "version": 3
   },
   "file_extension": ".py",
   "mimetype": "text/x-python",
   "name": "python",
   "nbconvert_exporter": "python",
   "pygments_lexer": "ipython3",
   "version": "3.9.12"
  }
 },
 "nbformat": 4,
 "nbformat_minor": 5
}
