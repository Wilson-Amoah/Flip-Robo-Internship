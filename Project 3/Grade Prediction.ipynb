{
 "cells": [
  {
   "cell_type": "code",
   "execution_count": 56,
   "id": "bd5511da",
   "metadata": {},
   "outputs": [],
   "source": [
    "# Grade prediction\n",
    "#  Internship number: 2306"
   ]
  },
  {
   "cell_type": "code",
   "execution_count": 58,
   "id": "8d8f033a",
   "metadata": {},
   "outputs": [
    {
     "name": "stdout",
     "output_type": "stream",
     "text": [
      "Mean Absolute Error: 0.04168590892461823\n",
      "Mean Squared Error: 0.003270201126172455\n",
      "Root Mean Squared Error: 0.05718567238541884\n",
      "R-squared: 0.9901733067632673\n"
     ]
    }
   ],
   "source": [
    "import pandas as pd\n",
    "from sklearn.model_selection import train_test_split\n",
    "from sklearn.linear_model import LinearRegression\n",
    "from sklearn.metrics import mean_absolute_error, mean_squared_error, r2_score\n",
    "\n",
    "# Load the dataset\n",
    "dataset_grades = pd.read_csv(\"/Users/wilogy/Downloads/Projects/Project 3/Grades.csv\")\n",
    "\n",
    "# Create a copy of the dataset to avoid altering the original CGPA values\n",
    "data = dataset_grades.copy()\n",
    "\n",
    "# Define a grading scale\n",
    "grading_scale = {\n",
    "    'A+': 4.0, 'A': 4.0, 'A-': 3.7,\n",
    "    'B+': 3.3, 'B': 3.0, 'B-': 2.7,\n",
    "    'C+': 2.3, 'C': 2.0, 'C-': 1.7,\n",
    "    'D+': 1.3, 'D': 1.0, 'D-': 0.7,\n",
    "    'F': 0.0, 'WU': 0.0, 'W':0.0\n",
    "}\n",
    "\n",
    "# Map letter grades to numeric values\n",
    "for column in data.columns:\n",
    "    data[column] = data[column].map(grading_scale)\n",
    "\n",
    "# Handle any remaining missing values by filling with the column mean\n",
    "data = data.fillna(data.mean())\n",
    "\n",
    "# Define the courses to use as features\n",
    "course_codes = [\"PH-121\", \"HS-101\", \"CY-105\", \"HS-105/12\", \"MT-111\", \"CS-105\", \"CS-106\", \n",
    "                \"EL-102\", \"EE-119\", \"ME-107\", \"CS-107\", \"HS-205/20\", \"MT-222\", \"EE-222\", \"MT-224\", \n",
    "                \"CS-210\", \"CS-211\", \"CS-203\", \"CS-214\", \"EE-217\", \"CS-212\", \"CS-215\", \"MT-331\", \n",
    "                \"EF-303\", \"HS-304\", \"CS-301\", \"CS-302\", \"TC-383\", \"MT-442\", \"EL-332\", \"CS-318\", \n",
    "                \"CS-306\", \"CS-312\", \"CS-317\", \"CS-403\", \"CS-421\", \"CS-406\", \"CS-414\", \"CS-419\", \n",
    "                \"CS-423\", \"CS-412\"]\n",
    "\n",
    "# Define the features (X) and target (y)\n",
    "X = data[course_codes]\n",
    "y = dataset_grades[\"CGPA\"]\n",
    "\n",
    "# Handle missing values in the target variable y\n",
    "y = y.fillna(y.mean())  \n",
    "\n",
    "# Split the data into training and testing sets\n",
    "X_train, X_test, y_train, y_test = train_test_split(X, y, test_size=0.2, random_state=42)\n",
    "\n",
    "#Using Linear Regression to train the model\n",
    "model = LinearRegression()\n",
    "\n",
    "# Train the model\n",
    "model.fit(X_train, y_train)\n",
    "\n",
    "# Make predictions\n",
    "cgpa_prediction = model.predict(X_test)\n",
    "\n",
    "# Evaluate the model\n",
    "mae = mean_absolute_error(y_test, cgpa_prediction)\n",
    "mse = mean_squared_error(y_test, cgpa_prediction)\n",
    "rmse = mean_squared_error(y_test, cgpa_prediction, squared=False)\n",
    "r2 = r2_score(y_test, cgpa_prediction)\n",
    "\n",
    "print(\"Mean Absolute Error:\", mae)\n",
    "print(\"Mean Squared Error:\", mse)\n",
    "print(\"Root Mean Squared Error:\", rmse)\n",
    "print(\"R-squared:\", r2)\n"
   ]
  },
  {
   "cell_type": "code",
   "execution_count": null,
   "id": "68dd583b",
   "metadata": {},
   "outputs": [],
   "source": []
  }
 ],
 "metadata": {
  "kernelspec": {
   "display_name": "Python 3 (ipykernel)",
   "language": "python",
   "name": "python3"
  },
  "language_info": {
   "codemirror_mode": {
    "name": "ipython",
    "version": 3
   },
   "file_extension": ".py",
   "mimetype": "text/x-python",
   "name": "python",
   "nbconvert_exporter": "python",
   "pygments_lexer": "ipython3",
   "version": "3.9.12"
  }
 },
 "nbformat": 4,
 "nbformat_minor": 5
}
