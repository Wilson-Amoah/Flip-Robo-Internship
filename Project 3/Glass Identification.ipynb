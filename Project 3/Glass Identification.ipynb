{
 "cells": [
  {
   "cell_type": "code",
   "execution_count": null,
   "id": "c8561927",
   "metadata": {},
   "outputs": [],
   "source": [
    "# Glass Identification\n",
    "#  Internship number: 2306\n"
   ]
  },
  {
   "cell_type": "code",
   "execution_count": 26,
   "id": "715d4454",
   "metadata": {},
   "outputs": [
    {
     "name": "stdout",
     "output_type": "stream",
     "text": [
      "ID Number           0\n",
      "Refractive Index    0\n",
      "Sodium, NA          0\n",
      "Magnesium, Mg       0\n",
      "Aluminium, Al       0\n",
      "Silicon, Si         0\n",
      "Potassium, K        0\n",
      "Calcium, Ca         0\n",
      "Barium, Ba          0\n",
      "Iron, FE            0\n",
      "Class attribute     0\n",
      "dtype: int64\n"
     ]
    }
   ],
   "source": [
    "import pandas as pd\n",
    "from sklearn.model_selection import train_test_split\n",
    "from sklearn.ensemble import RandomForestClassifier\n",
    "from sklearn.metrics import accuracy_score, classification_report\n",
    "\n",
    "# Load and preprocess the data\n",
    "data = pd.read_csv(\"/Users/wilogy/Downloads/Projects/Project 3/glass.csv\")\n",
    "\n",
    "X = data.drop(\"Class attribute\", axis=1)\n",
    "y = data[\"Class attribute\"]\n",
    "\n",
    "# Check for missing values\n",
    "print(data.isnull().sum())  # Check for missing values in each column\n"
   ]
  },
  {
   "cell_type": "code",
   "execution_count": 28,
   "id": "816de8ca",
   "metadata": {
    "scrolled": false
   },
   "outputs": [
    {
     "name": "stdout",
     "output_type": "stream",
     "text": [
      "Accuracy: 1.0\n",
      "              precision    recall  f1-score   support\n",
      "\n",
      "           1       1.00      1.00      1.00        11\n",
      "           2       1.00      1.00      1.00        14\n",
      "           3       1.00      1.00      1.00         3\n",
      "           5       1.00      1.00      1.00         4\n",
      "           6       1.00      1.00      1.00         3\n",
      "           7       1.00      1.00      1.00         8\n",
      "\n",
      "    accuracy                           1.00        43\n",
      "   macro avg       1.00      1.00      1.00        43\n",
      "weighted avg       1.00      1.00      1.00        43\n",
      "\n"
     ]
    }
   ],
   "source": [
    "\n",
    "# Split the data\n",
    "X_train, X_test, y_train, y_test = train_test_split(X, y, test_size=0.2, random_state=42)\n",
    "\n",
    "# Training of model using Random Forest\n",
    "model = RandomForestClassifier(random_state=42)\n",
    "model.fit(X_train, y_train)\n",
    "\n",
    "# Evaluate the model\n",
    "class_attribute = model.predict(X_test)\n",
    "accuracy = accuracy_score(y_test, class_attribute)\n",
    "print(f\"Accuracy: {accuracy}\")\n",
    "print(classification_report(y_test, class_attribute))\n",
    "\n",
    "\n"
   ]
  },
  {
   "cell_type": "code",
   "execution_count": 33,
   "id": "dc670d9d",
   "metadata": {},
   "outputs": [
    {
     "name": "stdout",
     "output_type": "stream",
     "text": [
      "Predicted Glass Types:\n",
      "Sample 1: Window Glass\n",
      "Sample 2: Window Glass\n",
      "Sample 3: Window Glass\n",
      "Sample 4: Window Glass\n",
      "Sample 5: Window Glass\n",
      "Sample 6: Window Glass\n",
      "Sample 7: Window Glass\n",
      "Sample 8: Window Glass\n",
      "Sample 9: Window Glass\n",
      "Sample 10: Window Glass\n",
      "Sample 11: Window Glass\n",
      "Sample 12: Window Glass\n",
      "Sample 13: Window Glass\n",
      "Sample 14: Window Glass\n",
      "Sample 15: Non-Window Glass\n",
      "Sample 16: Non-Window Glass\n",
      "Sample 17: Window Glass\n",
      "Sample 18: Window Glass\n",
      "Sample 19: Window Glass\n",
      "Sample 20: Non-Window Glass\n",
      "Sample 21: Window Glass\n",
      "Sample 22: Window Glass\n",
      "Sample 23: Window Glass\n",
      "Sample 24: Window Glass\n",
      "Sample 25: Window Glass\n",
      "Sample 26: Window Glass\n",
      "Sample 27: Window Glass\n",
      "Sample 28: Non-Window Glass\n",
      "Sample 29: Window Glass\n",
      "Sample 30: Window Glass\n",
      "Sample 31: Window Glass\n",
      "Sample 32: Non-Window Glass\n",
      "Sample 33: Window Glass\n",
      "Sample 34: Window Glass\n",
      "Sample 35: Window Glass\n",
      "Sample 36: Non-Window Glass\n",
      "Sample 37: Window Glass\n",
      "Sample 38: Window Glass\n",
      "Sample 39: Non-Window Glass\n",
      "Sample 40: Window Glass\n",
      "Sample 41: Window Glass\n",
      "Sample 42: Window Glass\n",
      "Sample 43: Window Glass\n"
     ]
    }
   ],
   "source": [
    "\n",
    "\n",
    "# Classify as window glass (1-4) or non-window glass (5-7)\n",
    "def classify_glass(class_attribute):\n",
    "    if class_attribute in [1, 2, 3, 4]:\n",
    "        return \"Window Glass\"\n",
    "    elif class_attribute in [5, 6, 7]:\n",
    "        return \"Non-Window Glass\"\n",
    "    else:\n",
    "        return \"Unknown\"\n",
    "\n",
    "# Post-process the predictions\n",
    "glass_type_predictions = [classify_glass(attr) for attr in class_attribute]\n",
    "\n",
    "print(\"Predicted Glass Types:\")\n",
    "for idx, prediction in enumerate(glass_type_predictions):\n",
    "    print(f\"Sample {idx+1}: {prediction}\")\n"
   ]
  },
  {
   "cell_type": "code",
   "execution_count": null,
   "id": "fb0f32f0",
   "metadata": {},
   "outputs": [],
   "source": []
  }
 ],
 "metadata": {
  "kernelspec": {
   "display_name": "Python 3 (ipykernel)",
   "language": "python",
   "name": "python3"
  },
  "language_info": {
   "codemirror_mode": {
    "name": "ipython",
    "version": 3
   },
   "file_extension": ".py",
   "mimetype": "text/x-python",
   "name": "python",
   "nbconvert_exporter": "python",
   "pygments_lexer": "ipython3",
   "version": "3.9.12"
  }
 },
 "nbformat": 4,
 "nbformat_minor": 5
}
