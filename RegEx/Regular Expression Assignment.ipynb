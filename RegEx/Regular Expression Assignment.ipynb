{
 "cells": [
  {
   "cell_type": "code",
   "execution_count": null,
   "id": "c39b66d2",
   "metadata": {},
   "outputs": [],
   "source": [
    "#Question 1\n",
    "\n",
    "import re\n",
    "\n",
    "def is_valid_string(input_str):\n",
    "    return bool(re.match(r'^[a-zA-Z0-9]+$', input_str))\n",
    "\n",
    "def get_valid_input():\n",
    "    while True:\n",
    "        user_input = input(\"Enter a string containing only a-z, A-Z, and 0-9: \")\n",
    "        if is_valid_string(user_input):\n",
    "            return user_input\n",
    "        else:\n",
    "            print(\"Invalid input! Please enter only a-z, A-Z, and 0-9.\")\n",
    "\n",
    "if __name__ == \"__main__\":\n",
    "    valid_input = get_valid_input()\n",
    "    print(f\"Valid input: {valid_input}\")\n"
   ]
  },
  {
   "cell_type": "code",
   "execution_count": null,
   "id": "a4dafe54",
   "metadata": {},
   "outputs": [],
   "source": [
    "#Question 2\n",
    "import re\n",
    "\n",
    "def is_valid_string(input_str):\n",
    "    return bool(re.match(r'^a(b*)$', input_str))\n",
    "\n",
    "def get_valid_input():\n",
    "    while True:\n",
    "        user_input = input(\"Enter a string with 'a' followed by zero or more 'b's: \")\n",
    "        if is_valid_string(user_input):\n",
    "            return user_input\n",
    "        else:\n",
    "            print(\"Invalid input! Please enter only 'a' followed by zero or more 'b's.\")\n",
    "\n",
    "if __name__ == \"__main__\":\n",
    "    valid_input = get_valid_input()\n",
    "    print(f\"Valid input: {valid_input}\")\n"
   ]
  },
  {
   "cell_type": "code",
   "execution_count": null,
   "id": "3c6018f7",
   "metadata": {},
   "outputs": [],
   "source": [
    "#Question 3\n",
    "import re\n",
    "\n",
    "def is_valid_string(input_str):\n",
    "    return bool(re.match(r'^ab+$', input_str))\n",
    "\n",
    "def get_valid_input():\n",
    "    while True:\n",
    "        user_input = input(\"Enter a string with 'a' followed by one or more 'b's: \")\n",
    "        if is_valid_string(user_input):\n",
    "            return user_input\n",
    "        else:\n",
    "            print(\"Invalid input! Please enter only 'a' followed by one or more 'b's.\")\n",
    "\n",
    "if __name__ == \"__main__\":\n",
    "    valid_input = get_valid_input()\n",
    "    print(f\"Valid input: {valid_input}\")\n"
   ]
  },
  {
   "cell_type": "code",
   "execution_count": null,
   "id": "2415ef30",
   "metadata": {},
   "outputs": [],
   "source": [
    "#Question 4\n",
    "import re\n",
    "\n",
    "def is_valid_string(input_str):\n",
    "    return bool(re.match(r'^ab?$', input_str))\n",
    "\n",
    "def get_valid_input():\n",
    "    while True:\n",
    "        user_input = input(\"Enter a string with 'a' followed by zero or one 'b': \")\n",
    "        if is_valid_string(user_input):\n",
    "            return user_input\n",
    "        else:\n",
    "            print(\"Invalid input! Please enter only 'a' followed by zero or one 'b'.\")\n",
    "\n",
    "if __name__ == \"__main__\":\n",
    "    valid_input = get_valid_input()\n",
    "    print(f\"Valid input: {valid_input}\")\n"
   ]
  },
  {
   "cell_type": "code",
   "execution_count": null,
   "id": "1c3dcfe0",
   "metadata": {},
   "outputs": [],
   "source": [
    "#Question 5\n",
    "import re\n",
    "\n",
    "def has_three_b(input_str):\n",
    "    return bool(re.match(r'^ab{3}$', input_str))\n",
    "\n",
    "if __name__ == \"__main__\":\n",
    "    user_input = input(\"Enter a string: \")\n",
    "    if has_three_b(user_input):\n",
    "        print(\"The string contains 'a' followed by three 'b's.\")\n",
    "    else:\n",
    "        print(\"The string does not match the pattern 'abbbb'.\")\n"
   ]
  },
  {
   "cell_type": "code",
   "execution_count": null,
   "id": "29e7444d",
   "metadata": {},
   "outputs": [],
   "source": [
    "#Question 6\n",
    "\n",
    "import re\n",
    "\n",
    "def split_into_uppercase(text):\n",
    "    return re.split(r'(?=[A-Z])', text)\n",
    "\n",
    "if __name__ == \"__main__\":\n",
    "    sample_text = \"ImportanceOfRegularExpressionsInPython\"\n",
    "    result = split_into_uppercase(sample_text)\n",
    "    print(result)\n"
   ]
  },
  {
   "cell_type": "code",
   "execution_count": 2,
   "id": "0d5e4651",
   "metadata": {},
   "outputs": [
    {
     "name": "stdout",
     "output_type": "stream",
     "text": [
      "Enter a string with 'a' followed by two or three 'b's: abb\n",
      "Valid input: abb\n"
     ]
    }
   ],
   "source": [
    "# Question 7\n",
    "import re\n",
    "\n",
    "def is_valid_string(input_str):\n",
    "    return bool(re.match(r'^ab{2,3}$', input_str))\n",
    "\n",
    "def get_valid_input():\n",
    "    while True:\n",
    "        user_input = input(\"Enter a string with 'a' followed by two or three 'b's: \")\n",
    "        if is_valid_string(user_input):\n",
    "            return user_input\n",
    "        else:\n",
    "            print(\"Invalid input! Please enter only 'a' followed by two or three 'b's.\")\n",
    "\n",
    "if __name__ == \"__main__\":\n",
    "    valid_input = get_valid_input()\n",
    "    print(f\"Valid input: {valid_input}\")\n"
   ]
  },
  {
   "cell_type": "code",
   "execution_count": 4,
   "id": "16ca272c",
   "metadata": {},
   "outputs": [
    {
     "name": "stdout",
     "output_type": "stream",
     "text": [
      "Enter a string containing lowercase letters joined with an underscore: qwsa\n",
      "Words joined with underscores: []\n"
     ]
    }
   ],
   "source": [
    "# Question 8\n",
    "import re\n",
    "\n",
    "def find_lower_with_underscore(input_str):\n",
    "    return re.findall(r'[a-z]+_[a-z]+', input_str)\n",
    "\n",
    "def get_valid_input_q8():\n",
    "    while True:\n",
    "        user_input = input(\"Enter a string containing lowercase letters joined with an underscore: \")\n",
    "        if re.match(r'^[a-z_]+$', user_input):\n",
    "            return user_input\n",
    "        else:\n",
    "            print(\"Invalid input! Please enter only lowercase letters joined with an underscore.\")\n",
    "\n",
    "if __name__ == \"__main__\":\n",
    "    valid_input_q8 = get_valid_input_q8()\n",
    "    result_q8 = find_lower_with_underscore(valid_input_q8)\n",
    "    print(f\"Words joined with underscores: {result_q8}\")\n"
   ]
  },
  {
   "cell_type": "code",
   "execution_count": 5,
   "id": "8be91be8",
   "metadata": {},
   "outputs": [
    {
     "name": "stdout",
     "output_type": "stream",
     "text": [
      "Enter a string with 'a' followed by anything, ending in 'b': qw\n",
      "Invalid input! Please enter only 'a' followed by anything, ending in 'b'.\n",
      "Enter a string with 'a' followed by anything, ending in 'b': ab\n",
      "Valid input: ab\n"
     ]
    }
   ],
   "source": [
    "# Question 9\n",
    "import re\n",
    "\n",
    "def is_valid_string_q9(input_str):\n",
    "    return bool(re.match(r'^a.*b$', input_str))\n",
    "\n",
    "def get_valid_input_q9():\n",
    "    while True:\n",
    "        user_input = input(\"Enter a string with 'a' followed by anything, ending in 'b': \")\n",
    "        if is_valid_string_q9(user_input):\n",
    "            return user_input\n",
    "        else:\n",
    "            print(\"Invalid input! Please enter only 'a' followed by anything, ending in 'b'.\")\n",
    "\n",
    "if __name__ == \"__main__\":\n",
    "    valid_input_q9 = get_valid_input_q9()\n",
    "    print(f\"Valid input: {valid_input_q9}\")\n"
   ]
  },
  {
   "cell_type": "code",
   "execution_count": 6,
   "id": "5e9ea6ca",
   "metadata": {},
   "outputs": [
    {
     "name": "stdout",
     "output_type": "stream",
     "text": [
      "Enter a string: qw\n",
      "Word at the beginning: ['qw']\n"
     ]
    }
   ],
   "source": [
    "# Q10\n",
    "import re\n",
    "\n",
    "def find_word_at_beginning(input_str):\n",
    "    return re.findall(r'^\\w+', input_str)\n",
    "\n",
    "def get_valid_input_q10():\n",
    "    while True:\n",
    "        user_input = input(\"Enter a string: \")\n",
    "        if re.match(r'^\\w+', user_input):\n",
    "            return user_input\n",
    "        else:\n",
    "            print(\"Invalid input! Please enter a string starting with a word.\")\n",
    "\n",
    "if __name__ == \"__main__\":\n",
    "    valid_input_q10 = get_valid_input_q10()\n",
    "    result_q10 = find_word_at_beginning(valid_input_q10)\n",
    "    print(f\"Word at the beginning: {result_q10}\")\n"
   ]
  },
  {
   "cell_type": "code",
   "execution_count": 7,
   "id": "5f2ba90d",
   "metadata": {},
   "outputs": [
    {
     "name": "stdout",
     "output_type": "stream",
     "text": [
      "Enter a string with only upper and lowercase letters, numbers, and underscores: Asa12_\n",
      "Valid input: Asa12_\n"
     ]
    }
   ],
   "source": [
    "# Q11\n",
    "import re\n",
    "\n",
    "def is_valid_string_q11(input_str):\n",
    "    return bool(re.match(r'^[a-zA-Z0-9_]+$', input_str))\n",
    "\n",
    "def get_valid_input_q11():\n",
    "    while True:\n",
    "        user_input = input(\"Enter a string with only upper and lowercase letters, numbers, and underscores: \")\n",
    "        if is_valid_string_q11(user_input):\n",
    "            return user_input\n",
    "        else:\n",
    "            print(\"Invalid input! Please enter only upper and lowercase letters, numbers, and underscores.\")\n",
    "\n",
    "if __name__ == \"__main__\":\n",
    "    valid_input_q11 = get_valid_input_q11()\n",
    "    print(f\"Valid input: {valid_input_q11}\")\n"
   ]
  },
  {
   "cell_type": "code",
   "execution_count": 8,
   "id": "3f8c78c5",
   "metadata": {},
   "outputs": [
    {
     "name": "stdout",
     "output_type": "stream",
     "text": [
      "Enter a string starting with '42': 42\n",
      "Valid input: 42\n"
     ]
    }
   ],
   "source": [
    "# Q12\n",
    "import re\n",
    "\n",
    "def is_valid_string_q12(input_str):\n",
    "    return bool(re.match(r'^42.*', input_str))\n",
    "\n",
    "def get_valid_input_q12():\n",
    "    while True:\n",
    "        user_input = input(\"Enter a string starting with '42': \")\n",
    "        if is_valid_string_q12(user_input):\n",
    "            return user_input\n",
    "        else:\n",
    "            print(\"Invalid input! Please enter a string starting with '42'.\")\n",
    "\n",
    "if __name__ == \"__main__\":\n",
    "    valid_input_q12 = get_valid_input_q12()\n",
    "    print(f\"Valid input: {valid_input_q12}\")\n"
   ]
  },
  {
   "cell_type": "code",
   "execution_count": 12,
   "id": "9c653b7e",
   "metadata": {},
   "outputs": [
    {
     "name": "stdout",
     "output_type": "stream",
     "text": [
      "Enter an IP address: 010120010\n",
      "IP address without leading zeros: 10120010\n"
     ]
    }
   ],
   "source": [
    "#Q13\n",
    "def remove_leading_zeros(ip_address):\n",
    "    # Split the IP address into its octets\n",
    "    octets = ip_address.split('.')\n",
    "    \n",
    "    # Remove leading zeros from each octet\n",
    "    cleaned_octets = [str(int(octet)) for octet in octets]\n",
    "    \n",
    "    # Join the cleaned octets back into an IP address\n",
    "    cleaned_ip = '.'.join(cleaned_octets)\n",
    "    \n",
    "    return cleaned_ip\n",
    "\n",
    "if __name__ == \"__main__\":\n",
    "    user_input = input(\"Enter an IP address: \")\n",
    "    cleaned_ip = remove_leading_zeros(user_input)\n",
    "    print(f\"IP address without leading zeros: {cleaned_ip}\")\n"
   ]
  },
  {
   "cell_type": "code",
   "execution_count": 16,
   "id": "7f056f5f",
   "metadata": {},
   "outputs": [
    {
     "name": "stdout",
     "output_type": "stream",
     "text": [
      "Date found: August 15th 1947\n"
     ]
    }
   ],
   "source": [
    "# Question 14\n",
    "import re\n",
    "\n",
    "def find_date_in_text(text):\n",
    "    match = re.search(r'\\b[A-Z][a-z]+\\s\\d{1,2}(?:st|nd|rd|th)?\\s\\d{4}\\b', text)\n",
    "    return match.group(0) if match else None\n",
    "\n",
    "if __name__ == \"__main__\":\n",
    "    sample_text_q14 = 'On August 15th 1947 that India was declared independent from British colonialism, and the reins of control were handed over to the leaders of the Country.'\n",
    "    result_q14 = find_date_in_text(sample_text_q14)\n",
    "    print(f\"Date found: {result_q14}\")\n"
   ]
  },
  {
   "cell_type": "code",
   "execution_count": 17,
   "id": "17228ef0",
   "metadata": {},
   "outputs": [
    {
     "name": "stdout",
     "output_type": "stream",
     "text": [
      "Words found: ['fox', 'dog']\n"
     ]
    }
   ],
   "source": [
    "# Q15\n",
    "def search_literals_in_text(text, searched_words):\n",
    "    return [word for word in searched_words if word in text]\n",
    "\n",
    "if __name__ == \"__main__\":\n",
    "    sample_text_q15 = 'The quick brown fox jumps over the lazy dog.'\n",
    "    searched_words_q15 = ['fox', 'dog', 'horse']\n",
    "    result_q15 = search_literals_in_text(sample_text_q15, searched_words_q15)\n",
    "    print(f\"Words found: {result_q15}\")\n"
   ]
  },
  {
   "cell_type": "code",
   "execution_count": 18,
   "id": "88834ff7",
   "metadata": {},
   "outputs": [
    {
     "name": "stdout",
     "output_type": "stream",
     "text": [
      "Positions of 'fox': [16]\n"
     ]
    }
   ],
   "source": [
    "# Q16\n",
    "def search_word_and_position(text, word):\n",
    "    return [match.start() for match in re.finditer(word, text)]\n",
    "\n",
    "if __name__ == \"__main__\":\n",
    "    sample_text_q16 = 'The quick brown fox jumps over the lazy dog.'\n",
    "    searched_word_q16 = 'fox'\n",
    "    result_q16 = search_word_and_position(sample_text_q16, searched_word_q16)\n",
    "    print(f\"Positions of '{searched_word_q16}': {result_q16}\")\n"
   ]
  },
  {
   "cell_type": "code",
   "execution_count": 19,
   "id": "c40e7bb3",
   "metadata": {},
   "outputs": [
    {
     "name": "stdout",
     "output_type": "stream",
     "text": [
      "['exercises', 'exercises', 'exercises']\n"
     ]
    }
   ],
   "source": [
    "#Q17\n",
    "import re\n",
    "\n",
    "def find_substrings_within_string(text, pattern):\n",
    "    return re.findall(pattern, text)\n",
    "\n",
    "# Test\n",
    "sample_text = 'Python exercises, PHP exercises, C# exercises'\n",
    "pattern = 'exercises'\n",
    "print(find_substrings_within_string(sample_text, pattern))\n",
    "# Output: ['exercises', 'exercises', 'exercises']\n"
   ]
  },
  {
   "cell_type": "code",
   "execution_count": 20,
   "id": "13bd597a",
   "metadata": {},
   "outputs": [
    {
     "name": "stdout",
     "output_type": "stream",
     "text": [
      "Enter a string: 112kak\n",
      "Enter the substring to find: jjqhk\n",
      "Occurrences and positions of 'jjqhk': []\n"
     ]
    }
   ],
   "source": [
    "# Question 18\n",
    "def find_occurrence_and_position(text, substring):\n",
    "    occurrences = [(match.group(), match.start()) for match in re.finditer(substring, text)]\n",
    "    return occurrences\n",
    "\n",
    "if __name__ == \"__main__\":\n",
    "    user_input_q18 = input(\"Enter a string: \")\n",
    "    substring_q18 = input(\"Enter the substring to find: \")\n",
    "    result_q18 = find_occurrence_and_position(user_input_q18, substring_q18)\n",
    "    print(f\"Occurrences and positions of '{substring_q18}': {result_q18}\")\n"
   ]
  },
  {
   "cell_type": "code",
   "execution_count": 22,
   "id": "56b44901",
   "metadata": {},
   "outputs": [
    {
     "name": "stdout",
     "output_type": "stream",
     "text": [
      "Enter a date in yyyy-mm-dd format: 2021-02-12\n",
      "Converted date: 12-02-2021\n"
     ]
    }
   ],
   "source": [
    "# Question 19\n",
    "def convert_date_format(date_string):\n",
    "    match = re.match(r'(\\d{4})-(\\d{2})-(\\d{2})', date_string)\n",
    "    if match:\n",
    "        year, month, day = match.groups()\n",
    "        return f\"{day}-{month}-{year}\"\n",
    "    else:\n",
    "        return \"Invalid date format\"\n",
    "\n",
    "if __name__ == \"__main__\":\n",
    "    user_input_q19 = input(\"Enter a date in yyyy-mm-dd format: \")\n",
    "    result_q19 = convert_date_format(user_input_q19)\n",
    "    print(f\"Converted date: {result_q19}\")\n"
   ]
  },
  {
   "cell_type": "code",
   "execution_count": 23,
   "id": "4cba3145",
   "metadata": {},
   "outputs": [
    {
     "name": "stdout",
     "output_type": "stream",
     "text": [
      "Enter a string: 12w\n",
      "Words starting with 'a' or 'e': []\n"
     ]
    }
   ],
   "source": [
    "# Question 20\n",
    "def find_words_starting_with_a_or_e(text):\n",
    "    return re.findall(r'\\b[aeAE]\\w+', text)\n",
    "\n",
    "if __name__ == \"__main__\":\n",
    "    user_input_q20 = input(\"Enter a string: \")\n",
    "    result_q20 = find_words_starting_with_a_or_e(user_input_q20)\n",
    "    print(f\"Words starting with 'a' or 'e': {result_q20}\")\n"
   ]
  },
  {
   "cell_type": "code",
   "execution_count": 28,
   "id": "02475a04",
   "metadata": {},
   "outputs": [
    {
     "name": "stdout",
     "output_type": "stream",
     "text": [
      "Enter a number: 123e12\n",
      "Numbers and their positions: []\n"
     ]
    }
   ],
   "source": [
    "# Question 21\n",
    "def separate_numbers_and_positions(text):\n",
    "    numbers_with_positions = [(match.group(), match.start()) for match in re.finditer(r'\\b\\d+\\b', text)]\n",
    "    return numbers_with_positions\n",
    "\n",
    "if __name__ == \"__main__\":\n",
    "    user_input_q21 = input(\"Enter a number: \")\n",
    "    result_q21 = separate_numbers_and_positions(user_input_q21)\n",
    "    print(f\"Numbers and their positions: {result_q21}\")\n"
   ]
  },
  {
   "cell_type": "code",
   "execution_count": 29,
   "id": "2e4bbe33",
   "metadata": {},
   "outputs": [
    {
     "name": "stdout",
     "output_type": "stream",
     "text": [
      "Enter a string with numeric values: 1233\n",
      "Maximum numeric value: 1233\n"
     ]
    }
   ],
   "source": [
    "# Question 22\n",
    "def extract_max_numeric_value(text):\n",
    "    max_value = max(map(int, re.findall(r'\\b\\d+\\b', text)))\n",
    "    return max_value if max_value else None\n",
    "\n",
    "if __name__ == \"__main__\":\n",
    "    user_input_q22 = input(\"Enter a string with numeric values: \")\n",
    "    result_q22 = extract_max_numeric_value(user_input_q22)\n",
    "    print(f\"Maximum numeric value: {result_q22}\")\n"
   ]
  },
  {
   "cell_type": "code",
   "execution_count": 30,
   "id": "920fcdd9",
   "metadata": {},
   "outputs": [
    {
     "name": "stdout",
     "output_type": "stream",
     "text": [
      "Enter a string: 1wss\n",
      "Modified string: 1wss\n"
     ]
    }
   ],
   "source": [
    "# Question 23\n",
    "def put_spaces_between_words_with_capital_letters(text):\n",
    "    return re.sub(r'(?<=[a-z])(?=[A-Z])', ' ', text)\n",
    "\n",
    "if __name__ == \"__main__\":\n",
    "    user_input_q23 = input(\"Enter a string: \")\n",
    "    result_q23 = put_spaces_between_words_with_capital_letters(user_input_q23)\n",
    "    print(f\"Modified string: {result_q23}\")\n"
   ]
  },
  {
   "cell_type": "code",
   "execution_count": 31,
   "id": "cf7e0da4",
   "metadata": {},
   "outputs": [
    {
     "name": "stdout",
     "output_type": "stream",
     "text": [
      "Enter a string: 12\n",
      "Sequences of one uppercase letter followed by lowercase letters: []\n"
     ]
    }
   ],
   "source": [
    "# Question 24\n",
    "def find_upper_lower_sequences(text):\n",
    "    return re.findall(r'[A-Z][a-z]+', text)\n",
    "\n",
    "if __name__ == \"__main__\":\n",
    "    user_input_q24 = input(\"Enter a string: \")\n",
    "    result_q24 = find_upper_lower_sequences(user_input_q24)\n",
    "    print(f\"Sequences of one uppercase letter followed by lowercase letters: {result_q24}\")\n"
   ]
  },
  {
   "cell_type": "code",
   "execution_count": 32,
   "id": "c6b7c535",
   "metadata": {},
   "outputs": [
    {
     "name": "stdout",
     "output_type": "stream",
     "text": [
      "Enter a sentence: wqw\n",
      "Sentence after removing duplicate words: wqw\n"
     ]
    }
   ],
   "source": [
    "# Question 25\n",
    "def remove_duplicate_words(sentence):\n",
    "    return re.sub(r'\\b(\\w+)\\s+\\1\\b', r'\\1', sentence)\n",
    "\n",
    "if __name__ == \"__main__\":\n",
    "    user_input_q25 = input(\"Enter a sentence: \")\n",
    "    result_q25 = remove_duplicate_words(user_input_q25)\n",
    "    print(f\"Sentence after removing duplicate words: {result_q25}\")\n"
   ]
  },
  {
   "cell_type": "code",
   "execution_count": 33,
   "id": "e41b446c",
   "metadata": {},
   "outputs": [
    {
     "name": "stdout",
     "output_type": "stream",
     "text": [
      "Enter a string ending with an alphanumeric character: 1i2w\n",
      "Valid input: 1i2w\n"
     ]
    }
   ],
   "source": [
    "# Question 26\n",
    "def accept_string_ending_with_alphanumeric():\n",
    "    while True:\n",
    "        user_input_q26 = input(\"Enter a string ending with an alphanumeric character: \")\n",
    "        if re.match(r'.*[a-zA-Z0-9]$', user_input_q26):\n",
    "            return user_input_q26\n",
    "        else:\n",
    "            print(\"Invalid input! Please enter a string ending with an alphanumeric character.\")\n",
    "\n",
    "if __name__ == \"__main__\":\n",
    "    valid_input_q26 = accept_string_ending_with_alphanumeric()\n",
    "    print(f\"Valid input: {valid_input_q26}\")\n"
   ]
  },
  {
   "cell_type": "code",
   "execution_count": 34,
   "id": "491b2756",
   "metadata": {},
   "outputs": [
    {
     "name": "stdout",
     "output_type": "stream",
     "text": [
      "Extracted hashtags: ['#Doltiwal', '#xyzabc', '#Demonetization']\n"
     ]
    }
   ],
   "source": [
    "# Question 27\n",
    "def extract_hashtags(text):\n",
    "    return re.findall(r'#\\w+', text)\n",
    "\n",
    "if __name__ == \"__main__\":\n",
    "    sample_text_q27 = \"\"\"RT @kapil_kausik: #Doltiwal I mean #xyzabc is \"hurt\" by #Demonetization as the same has rendered USELESS <ed><U+00A0><U+00BD><ed><U+00B1><U+0089> \"acquired funds\" No wo\"\"\"\n",
    "    result_q27 = extract_hashtags(sample_text_q27)\n",
    "    print(f\"Extracted hashtags: {result_q27}\")\n"
   ]
  },
  {
   "cell_type": "code",
   "execution_count": 36,
   "id": "ed5444c3",
   "metadata": {},
   "outputs": [
    {
     "name": "stdout",
     "output_type": "stream",
     "text": [
      "Output: @Jags123456 Bharat band on 28??<ed><ed>Those who  are protesting #demonetization  are all different party leaders\n"
     ]
    }
   ],
   "source": [
    "# Question 28\n",
    "def remove_U_plus_symbols(text):\n",
    "    return re.sub(r'<U\\+[\\da-fA-F]+>', '', text)\n",
    "\n",
    "if __name__ == \"__main__\":\n",
    "    sample_text_q28 = \"@Jags123456 Bharat band on 28??<ed><U+00A0><U+00BD><ed><U+00B8><U+0082>Those who  are protesting #demonetization  are all different party leaders\"\n",
    "    result_q28 = remove_U_plus_symbols(sample_text_q28)\n",
    "    print(f\"Output: {result_q28}\")\n"
   ]
  },
  {
   "cell_type": "code",
   "execution_count": 37,
   "id": "4d746838",
   "metadata": {},
   "outputs": [
    {
     "name": "stdout",
     "output_type": "stream",
     "text": [
      "Extracted dates: ['12-09-1992', '15-12-1999']\n"
     ]
    }
   ],
   "source": [
    "# Question 29\n",
    "def extract_dates_from_text_file(file_path):\n",
    "    with open(file_path, 'r') as file:\n",
    "        text = file.read()\n",
    "        dates = re.findall(r'\\b\\d{1,2}-\\d{1,2}-\\d{4}\\b', text)\n",
    "    return dates\n",
    "\n",
    "if __name__ == \"__main__\":\n",
    "    sample_text_q29 = \"Ron was born on 12-09-1992 and he was admitted to school 15-12-1999.\"\n",
    "    file_path_q29 = \"sample_text.txt\"\n",
    "\n",
    "    # Save the sample text to a file\n",
    "    with open(file_path_q29, 'w') as file:\n",
    "        file.write(sample_text_q29)\n",
    "\n",
    "    extracted_dates_q29 = extract_dates_from_text_file(file_path_q29)\n",
    "    print(f\"Extracted dates: {extracted_dates_q29}\")\n"
   ]
  },
  {
   "cell_type": "code",
   "execution_count": 38,
   "id": "e6955740",
   "metadata": {},
   "outputs": [
    {
     "name": "stdout",
     "output_type": "stream",
     "text": [
      "Output: Python:Exercises::PHP:exercises:\n"
     ]
    }
   ],
   "source": [
    "# Question 30\n",
    "def replace_space_comma_dot_with_colon(text):\n",
    "    return re.sub(r'[ ,.]', ':', text)\n",
    "\n",
    "if __name__ == \"__main__\":\n",
    "    sample_text_q30 = 'Python Exercises, PHP exercises.'\n",
    "    result_q30 = replace_space_comma_dot_with_colon(sample_text_q30)\n",
    "    print(f\"Output: {result_q30}\")\n"
   ]
  },
  {
   "cell_type": "code",
   "execution_count": null,
   "id": "3e82d294",
   "metadata": {},
   "outputs": [],
   "source": []
  }
 ],
 "metadata": {
  "kernelspec": {
   "display_name": "Python 3 (ipykernel)",
   "language": "python",
   "name": "python3"
  },
  "language_info": {
   "codemirror_mode": {
    "name": "ipython",
    "version": 3
   },
   "file_extension": ".py",
   "mimetype": "text/x-python",
   "name": "python",
   "nbconvert_exporter": "python",
   "pygments_lexer": "ipython3",
   "version": "3.9.12"
  }
 },
 "nbformat": 4,
 "nbformat_minor": 5
}
